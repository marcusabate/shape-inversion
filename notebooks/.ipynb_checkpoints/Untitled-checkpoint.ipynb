{
 "cells": [
  {
   "cell_type": "markdown",
   "id": "6d9e1cac",
   "metadata": {},
   "source": [
    "# Test Package\n",
    "\n",
    "Want to make sure the package can be installed in one take before sending it to colab."
   ]
  },
  {
   "cell_type": "code",
   "execution_count": null,
   "id": "4cdade42",
   "metadata": {},
   "outputs": [],
   "source": [
    "import sys, os\n",
    "import torch\n",
    "from shape_inversion.arguments import Arguments\n",
    "from shape_inversion.trainer import Trainer"
   ]
  },
  {
   "cell_type": "code",
   "execution_count": null,
   "id": "7d7a2de1",
   "metadata": {},
   "outputs": [],
   "source": [
    "sys.argv = ['-f']  # because in a notebook\n",
    "args = Arguments(stage='inversion').parser().parse_args()\n",
    "\n",
    "args.dataset = 'MarsSim'\n",
    "args.split = 'test'\n",
    "args.class_choice = 'martian_terrain'\n",
    "args.inversion_mode = 'completion'\n",
    "args.mask_type = 'k_mask'\n",
    "args.save_inversion_path = '../saved_results/martian_terrain_test'\n",
    "args.ckpt_load = '../pretrained_models/mars.pt'\n",
    "args.dataset_path = '../../../mars_printer/data/mars_sim/0517221_0010_train_uniform_input'"
   ]
  },
  {
   "cell_type": "code",
   "execution_count": null,
   "id": "38e34e28",
   "metadata": {},
   "outputs": [],
   "source": [
    "args.device = torch.device('cuda:'+str(args.gpu) if torch.cuda.is_available() else 'cpu')\n",
    "torch.cuda.set_device(args.device)\n",
    "\n",
    "if not os.path.isdir('../logs/'):\n",
    "    os.mkdir('../logs/')\n",
    "if not os.path.isdir('../saved_results'):\n",
    "    os.mkdir('../saved_results')\n",
    "\n",
    "if args.dist:\n",
    "    rank, world_size = dist_init(args.port)"
   ]
  },
  {
   "cell_type": "code",
   "execution_count": null,
   "id": "1ed17e4a",
   "metadata": {},
   "outputs": [],
   "source": [
    "trainer = Trainer(args)\n",
    "trainer.run()"
   ]
  }
 ],
 "metadata": {
  "kernelspec": {
   "display_name": "Python 3",
   "language": "python",
   "name": "python3"
  },
  "language_info": {
   "codemirror_mode": {
    "name": "ipython",
    "version": 3
   },
   "file_extension": ".py",
   "mimetype": "text/x-python",
   "name": "python",
   "nbconvert_exporter": "python",
   "pygments_lexer": "ipython3",
   "version": "3.8.5"
  }
 },
 "nbformat": 4,
 "nbformat_minor": 5
}
